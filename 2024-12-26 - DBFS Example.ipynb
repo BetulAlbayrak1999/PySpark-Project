{
 "cells": [
  {
   "cell_type": "markdown",
   "metadata": {
    "application/vnd.databricks.v1+cell": {
     "cellMetadata": {},
     "inputWidgets": {},
     "nuid": "96816ed7-b08a-4ca3-abb9-f99880c3535d",
     "showTitle": false,
     "tableResultSettingsMap": {},
     "title": ""
    }
   },
   "source": [
    "\n",
    "## Overview\n",
    "\n",
    "This notebook will show you how to create and query a table or DataFrame that you uploaded to DBFS. [DBFS](https://docs.databricks.com/user-guide/dbfs-databricks-file-system.html) is a Databricks File System that allows you to store data for querying inside of Databricks. This notebook assumes that you have a file already inside of DBFS that you would like to read from.\n",
    "\n",
    "This notebook is written in **Python** so the default cell type is Python. However, you can use different languages by using the `%LANGUAGE` syntax. Python, Scala, SQL, and R are all supported."
   ]
  },
  {
   "cell_type": "code",
   "execution_count": 0,
   "metadata": {
    "application/vnd.databricks.v1+cell": {
     "cellMetadata": {
      "byteLimit": 2048000,
      "rowLimit": 10000
     },
     "inputWidgets": {},
     "nuid": "6482be4c-f067-47c9-b0ac-35c938b94601",
     "showTitle": false,
     "tableResultSettingsMap": {},
     "title": ""
    }
   },
   "outputs": [
    {
     "output_type": "display_data",
     "data": {
      "text/html": [
       "<style scoped>\n",
       "  .table-result-container {\n",
       "    max-height: 300px;\n",
       "    overflow: auto;\n",
       "  }\n",
       "  table, th, td {\n",
       "    border: 1px solid black;\n",
       "    border-collapse: collapse;\n",
       "  }\n",
       "  th, td {\n",
       "    padding: 5px;\n",
       "  }\n",
       "  th {\n",
       "    text-align: left;\n",
       "  }\n",
       "</style><div class='table-result-container'><table class='table-result'><thead style='background-color: white'><tr><th>Total_bill</th><th>tip</th><th>sex</th><th>smoker</th><th>day</th><th>time</th><th>size</th></tr></thead><tbody><tr><td>12.21</td><td>1.2</td><td>Female</td><td>No</td><td>Sun</td><td>Dinner</td><td>2</td></tr><tr><td>23.12</td><td>1.3</td><td>Male</td><td>Yes</td><td>Mon</td><td>Dinner</td><td>4</td></tr><tr><td>24.12</td><td>5.4</td><td>Male</td><td>No</td><td>Tue</td><td>Dinner</td><td>3</td></tr><tr><td>25.12</td><td>6.4</td><td>Male</td><td>Yes</td><td>Wed</td><td>Dinner</td><td>2</td></tr><tr><td>26.12</td><td>7.4</td><td>Male</td><td>No</td><td>Thu</td><td>Dinner</td><td>4</td></tr><tr><td>27.12</td><td>8.4</td><td>Male</td><td>Yes</td><td>Fri</td><td>Dinner</td><td>5</td></tr><tr><td>28.12</td><td>9.4</td><td>Male</td><td>No</td><td>Sat</td><td>Dinner</td><td>1</td></tr><tr><td>29.12</td><td>10.4</td><td>Male</td><td>Yes</td><td>Sun</td><td>Dinner</td><td>5</td></tr><tr><td>30.12</td><td>11.4</td><td>Male</td><td>No</td><td>Mon</td><td>Dinner</td><td>5</td></tr><tr><td>31.12</td><td>12.4</td><td>Male</td><td>Yes</td><td>Tue</td><td>Dinner</td><td>6</td></tr><tr><td>32.12</td><td>13.4</td><td>Male</td><td>No</td><td>Wed</td><td>Dinner</td><td>2</td></tr><tr><td>33.12</td><td>14.4</td><td>Male</td><td>Yes</td><td>Thu</td><td>Dinner</td><td>4</td></tr><tr><td>34.12</td><td>15.4</td><td>Male</td><td>No</td><td>Fri</td><td>Dinner</td><td>3</td></tr><tr><td>35.12</td><td>16.4</td><td>Male</td><td>Yes</td><td>Sun</td><td>Dinner</td><td>2</td></tr><tr><td>36.12</td><td>17.4</td><td>Male</td><td>No</td><td>Mon</td><td>Dinner</td><td>4</td></tr><tr><td>37.12</td><td>18.4</td><td>Male</td><td>Yes</td><td>Tue</td><td>Dinner</td><td>5</td></tr><tr><td>38.12</td><td>19.4</td><td>Male</td><td>No</td><td>Wed</td><td>Dinner</td><td>1</td></tr><tr><td>39.12</td><td>1.2</td><td>Female</td><td>Yes</td><td>Sun</td><td>Dinner</td><td>5</td></tr><tr><td>40.12</td><td>1.3</td><td>Female</td><td>No</td><td>Mon</td><td>Dinner</td><td>5</td></tr><tr><td>41.12</td><td>5.4</td><td>Female</td><td>Yes</td><td>Tue</td><td>Dinner</td><td>6</td></tr><tr><td>42.12</td><td>6.4</td><td>Female</td><td>No</td><td>Wed</td><td>Dinner</td><td>2</td></tr><tr><td>43.12</td><td>7.4</td><td>Female</td><td>Yes</td><td>Sun</td><td>Dinner</td><td>4</td></tr><tr><td>44.12</td><td>25.4</td><td>Female</td><td>No</td><td>Mon</td><td>Dinner</td><td>3</td></tr><tr><td>45.12</td><td>26.4</td><td>Female</td><td>Yes</td><td>Tue</td><td>Dinner</td><td>2</td></tr><tr><td>46.12</td><td>27.4</td><td>Female</td><td>Yes</td><td>Wed</td><td>Dinner</td><td>4</td></tr><tr><td>47.12</td><td>28.4</td><td>Female</td><td>Yes</td><td>Wed</td><td>Dinner</td><td>5</td></tr><tr><td>48.12</td><td>29.4</td><td>Female</td><td>Yes</td><td>Wed</td><td>Dinner</td><td>1</td></tr><tr><td>49.12</td><td>30.4</td><td>Female</td><td>Yes</td><td>Wed</td><td>Dinner</td><td>5</td></tr><tr><td>12.21</td><td>31.4</td><td>Female</td><td>Yes</td><td>Wed</td><td>Dinner</td><td>5</td></tr><tr><td>23.12</td><td>32.4</td><td>Female</td><td>Yes</td><td>Wed</td><td>Dinner</td><td>6</td></tr><tr><td>24.12</td><td>33.4</td><td>Female</td><td>Yes</td><td>Wed</td><td>Dinner</td><td>6</td></tr><tr><td>25.12</td><td>34.4</td><td>Female</td><td>Yes</td><td>Wed</td><td>Dinner</td><td>6</td></tr><tr><td>26.12</td><td>1.2</td><td>Female</td><td>Yes</td><td>Wed</td><td>Dinner</td><td>6</td></tr><tr><td>55.12</td><td>1.3</td><td>Female</td><td>Yes</td><td>Sun</td><td>Dinner</td><td>6</td></tr><tr><td>56.12</td><td>5.4</td><td>Female</td><td>Yes</td><td>Sun</td><td>Dinner</td><td>6</td></tr><tr><td>57.12</td><td>6.4</td><td>Male</td><td>Yes</td><td>Sun</td><td>Dinner</td><td>6</td></tr><tr><td>58.12</td><td>7.4</td><td>Male</td><td>Yes</td><td>Sun</td><td>Dinner</td><td>6</td></tr><tr><td>59.12</td><td>40.4</td><td>Male</td><td>Yes</td><td>Sun</td><td>Dinner</td><td>6</td></tr><tr><td>12.21</td><td>41.4</td><td>Male</td><td>Yes</td><td>Sun</td><td>Dinner</td><td>6</td></tr><tr><td>23.12</td><td>42.4</td><td>Male</td><td>Yes</td><td>Sun</td><td>Dinner</td><td>6</td></tr><tr><td>24.12</td><td>1.2</td><td>Male</td><td>Yes</td><td>Sun</td><td>Dinner</td><td>1</td></tr><tr><td>25.12</td><td>1.3</td><td>Female</td><td>No</td><td>Sun</td><td>Dinner</td><td>1</td></tr><tr><td>26.12</td><td>5.4</td><td>Female</td><td>Yes</td><td>Sun</td><td>Dinner</td><td>1</td></tr><tr><td>65.12</td><td>6.4</td><td>Female</td><td>No</td><td>Sun</td><td>Dinner</td><td>1</td></tr></tbody></table></div>"
      ]
     },
     "metadata": {
      "application/vnd.databricks.v1+output": {
       "addedWidgets": {},
       "aggData": [],
       "aggError": "",
       "aggOverflow": false,
       "aggSchema": [],
       "aggSeriesLimitReached": false,
       "aggType": "",
       "arguments": {},
       "columnCustomDisplayInfos": {},
       "data": [
        [
         12.21,
         1.2,
         "Female",
         "No",
         "Sun",
         "Dinner",
         2
        ],
        [
         23.12,
         1.3,
         "Male",
         "Yes",
         "Mon",
         "Dinner",
         4
        ],
        [
         24.12,
         5.4,
         "Male",
         "No",
         "Tue",
         "Dinner",
         3
        ],
        [
         25.12,
         6.4,
         "Male",
         "Yes",
         "Wed",
         "Dinner",
         2
        ],
        [
         26.12,
         7.4,
         "Male",
         "No",
         "Thu",
         "Dinner",
         4
        ],
        [
         27.12,
         8.4,
         "Male",
         "Yes",
         "Fri",
         "Dinner",
         5
        ],
        [
         28.12,
         9.4,
         "Male",
         "No",
         "Sat",
         "Dinner",
         1
        ],
        [
         29.12,
         10.4,
         "Male",
         "Yes",
         "Sun",
         "Dinner",
         5
        ],
        [
         30.12,
         11.4,
         "Male",
         "No",
         "Mon",
         "Dinner",
         5
        ],
        [
         31.12,
         12.4,
         "Male",
         "Yes",
         "Tue",
         "Dinner",
         6
        ],
        [
         32.12,
         13.4,
         "Male",
         "No",
         "Wed",
         "Dinner",
         2
        ],
        [
         33.12,
         14.4,
         "Male",
         "Yes",
         "Thu",
         "Dinner",
         4
        ],
        [
         34.12,
         15.4,
         "Male",
         "No",
         "Fri",
         "Dinner",
         3
        ],
        [
         35.12,
         16.4,
         "Male",
         "Yes",
         "Sun",
         "Dinner",
         2
        ],
        [
         36.12,
         17.4,
         "Male",
         "No",
         "Mon",
         "Dinner",
         4
        ],
        [
         37.12,
         18.4,
         "Male",
         "Yes",
         "Tue",
         "Dinner",
         5
        ],
        [
         38.12,
         19.4,
         "Male",
         "No",
         "Wed",
         "Dinner",
         1
        ],
        [
         39.12,
         1.2,
         "Female",
         "Yes",
         "Sun",
         "Dinner",
         5
        ],
        [
         40.12,
         1.3,
         "Female",
         "No",
         "Mon",
         "Dinner",
         5
        ],
        [
         41.12,
         5.4,
         "Female",
         "Yes",
         "Tue",
         "Dinner",
         6
        ],
        [
         42.12,
         6.4,
         "Female",
         "No",
         "Wed",
         "Dinner",
         2
        ],
        [
         43.12,
         7.4,
         "Female",
         "Yes",
         "Sun",
         "Dinner",
         4
        ],
        [
         44.12,
         25.4,
         "Female",
         "No",
         "Mon",
         "Dinner",
         3
        ],
        [
         45.12,
         26.4,
         "Female",
         "Yes",
         "Tue",
         "Dinner",
         2
        ],
        [
         46.12,
         27.4,
         "Female",
         "Yes",
         "Wed",
         "Dinner",
         4
        ],
        [
         47.12,
         28.4,
         "Female",
         "Yes",
         "Wed",
         "Dinner",
         5
        ],
        [
         48.12,
         29.4,
         "Female",
         "Yes",
         "Wed",
         "Dinner",
         1
        ],
        [
         49.12,
         30.4,
         "Female",
         "Yes",
         "Wed",
         "Dinner",
         5
        ],
        [
         12.21,
         31.4,
         "Female",
         "Yes",
         "Wed",
         "Dinner",
         5
        ],
        [
         23.12,
         32.4,
         "Female",
         "Yes",
         "Wed",
         "Dinner",
         6
        ],
        [
         24.12,
         33.4,
         "Female",
         "Yes",
         "Wed",
         "Dinner",
         6
        ],
        [
         25.12,
         34.4,
         "Female",
         "Yes",
         "Wed",
         "Dinner",
         6
        ],
        [
         26.12,
         1.2,
         "Female",
         "Yes",
         "Wed",
         "Dinner",
         6
        ],
        [
         55.12,
         1.3,
         "Female",
         "Yes",
         "Sun",
         "Dinner",
         6
        ],
        [
         56.12,
         5.4,
         "Female",
         "Yes",
         "Sun",
         "Dinner",
         6
        ],
        [
         57.12,
         6.4,
         "Male",
         "Yes",
         "Sun",
         "Dinner",
         6
        ],
        [
         58.12,
         7.4,
         "Male",
         "Yes",
         "Sun",
         "Dinner",
         6
        ],
        [
         59.12,
         40.4,
         "Male",
         "Yes",
         "Sun",
         "Dinner",
         6
        ],
        [
         12.21,
         41.4,
         "Male",
         "Yes",
         "Sun",
         "Dinner",
         6
        ],
        [
         23.12,
         42.4,
         "Male",
         "Yes",
         "Sun",
         "Dinner",
         6
        ],
        [
         24.12,
         1.2,
         "Male",
         "Yes",
         "Sun",
         "Dinner",
         1
        ],
        [
         25.12,
         1.3,
         "Female",
         "No",
         "Sun",
         "Dinner",
         1
        ],
        [
         26.12,
         5.4,
         "Female",
         "Yes",
         "Sun",
         "Dinner",
         1
        ],
        [
         65.12,
         6.4,
         "Female",
         "No",
         "Sun",
         "Dinner",
         1
        ]
       ],
       "datasetInfos": [],
       "dbfsResultPath": null,
       "isJsonSchema": true,
       "metadata": {},
       "overflow": false,
       "plotOptions": {
        "customPlotOptions": {},
        "displayType": "table",
        "pivotAggregation": null,
        "pivotColumns": null,
        "xColumns": null,
        "yColumns": null
       },
       "removedWidgets": [],
       "schema": [
        {
         "metadata": "{}",
         "name": "Total_bill",
         "type": "\"double\""
        },
        {
         "metadata": "{}",
         "name": "tip",
         "type": "\"double\""
        },
        {
         "metadata": "{}",
         "name": "sex",
         "type": "\"string\""
        },
        {
         "metadata": "{}",
         "name": "smoker",
         "type": "\"string\""
        },
        {
         "metadata": "{}",
         "name": "day",
         "type": "\"string\""
        },
        {
         "metadata": "{}",
         "name": "time",
         "type": "\"string\""
        },
        {
         "metadata": "{}",
         "name": "size",
         "type": "\"integer\""
        }
       ],
       "type": "table"
      }
     },
     "output_type": "display_data"
    }
   ],
   "source": [
    "# File location and type\n",
    "file_location = \"/FileStore/tables/tips_data.csv\"\n",
    "file_type = \"csv\"\n",
    "\n",
    "# CSV options\n",
    "infer_schema = \"true\"\n",
    "first_row_is_header = \"true\"\n",
    "delimiter = \";\"\n",
    "\n",
    "# The applied options are for CSV files. For other file types, these will be ignored.\n",
    "df = spark.read.format(file_type) \\\n",
    "  .option(\"inferSchema\", infer_schema) \\\n",
    "  .option(\"header\", first_row_is_header) \\\n",
    "  .option(\"sep\", delimiter) \\\n",
    "  .load(file_location)\n",
    "\n",
    "display(df)"
   ]
  },
  {
   "cell_type": "code",
   "execution_count": 0,
   "metadata": {
    "application/vnd.databricks.v1+cell": {
     "cellMetadata": {
      "byteLimit": 2048000,
      "rowLimit": 10000
     },
     "inputWidgets": {},
     "nuid": "bd82bb99-1479-4d5c-be10-8c36df0f1d44",
     "showTitle": false,
     "tableResultSettingsMap": {},
     "title": ""
    }
   },
   "outputs": [],
   "source": [
    "# Create a view or table\n",
    "\n",
    "temp_table_name = \"tips_data_csv\"\n",
    "\n",
    "df.createOrReplaceTempView(temp_table_name)"
   ]
  },
  {
   "cell_type": "code",
   "execution_count": 0,
   "metadata": {
    "application/vnd.databricks.v1+cell": {
     "cellMetadata": {
      "byteLimit": 2048000,
      "implicitDf": true,
      "rowLimit": 10000
     },
     "inputWidgets": {},
     "nuid": "b5f66379-6f7f-42ec-8e82-d0e0926a1721",
     "showTitle": false,
     "tableResultSettingsMap": {},
     "title": ""
    }
   },
   "outputs": [
    {
     "output_type": "stream",
     "name": "stdout",
     "output_type": "stream",
     "text": [
      "root\n |-- Total_bill: double (nullable = true)\n |-- tip: double (nullable = true)\n |-- sex: string (nullable = true)\n |-- smoker: string (nullable = true)\n |-- day: string (nullable = true)\n |-- time: string (nullable = true)\n |-- size: integer (nullable = true)\n\n"
     ]
    }
   ],
   "source": [
    "df.printSchema()"
   ]
  },
  {
   "cell_type": "code",
   "execution_count": 0,
   "metadata": {
    "application/vnd.databricks.v1+cell": {
     "cellMetadata": {
      "byteLimit": 2048000,
      "rowLimit": 10000
     },
     "inputWidgets": {},
     "nuid": "db9631f6-bb4a-42ca-8a3c-0d48af932331",
     "showTitle": false,
     "tableResultSettingsMap": {},
     "title": ""
    }
   },
   "outputs": [
    {
     "output_type": "stream",
     "name": "stdout",
     "output_type": "stream",
     "text": [
      "Out[10]: ['Total_bill', 'tip', 'sex', 'smoker', 'day', 'time', 'size']"
     ]
    }
   ],
   "source": [
    "df.columns"
   ]
  },
  {
   "cell_type": "code",
   "execution_count": 0,
   "metadata": {
    "application/vnd.databricks.v1+cell": {
     "cellMetadata": {
      "byteLimit": 2048000,
      "rowLimit": 10000
     },
     "inputWidgets": {},
     "nuid": "1da8c70f-42bd-4438-82a6-d57a8b7eb729",
     "showTitle": false,
     "tableResultSettingsMap": {},
     "title": ""
    }
   },
   "outputs": [],
   "source": [
    "#### Handling Categorical Features\n",
    "from pyspark.ml.feature import StringIndexer\n"
   ]
  },
  {
   "cell_type": "code",
   "execution_count": 0,
   "metadata": {
    "application/vnd.databricks.v1+cell": {
     "cellMetadata": {
      "byteLimit": 2048000,
      "rowLimit": 10000
     },
     "inputWidgets": {},
     "nuid": "fd93d242-d168-40e3-ab21-3efcd2c29696",
     "showTitle": false,
     "tableResultSettingsMap": {},
     "title": ""
    }
   },
   "outputs": [
    {
     "output_type": "stream",
     "name": "stdout",
     "output_type": "stream",
     "text": [
      "+----------+----+------+------+---+------+----+-----------+\n|Total_bill| tip|   sex|smoker|day|  time|size|sex_indexed|\n+----------+----+------+------+---+------+----+-----------+\n|     12.21| 1.2|Female|    No|Sun|Dinner|   2|        0.0|\n|     23.12| 1.3|  Male|   Yes|Mon|Dinner|   4|        1.0|\n|     24.12| 5.4|  Male|    No|Tue|Dinner|   3|        1.0|\n|     25.12| 6.4|  Male|   Yes|Wed|Dinner|   2|        1.0|\n|     26.12| 7.4|  Male|    No|Thu|Dinner|   4|        1.0|\n|     27.12| 8.4|  Male|   Yes|Fri|Dinner|   5|        1.0|\n|     28.12| 9.4|  Male|    No|Sat|Dinner|   1|        1.0|\n|     29.12|10.4|  Male|   Yes|Sun|Dinner|   5|        1.0|\n|     30.12|11.4|  Male|    No|Mon|Dinner|   5|        1.0|\n|     31.12|12.4|  Male|   Yes|Tue|Dinner|   6|        1.0|\n|     32.12|13.4|  Male|    No|Wed|Dinner|   2|        1.0|\n|     33.12|14.4|  Male|   Yes|Thu|Dinner|   4|        1.0|\n|     34.12|15.4|  Male|    No|Fri|Dinner|   3|        1.0|\n|     35.12|16.4|  Male|   Yes|Sun|Dinner|   2|        1.0|\n|     36.12|17.4|  Male|    No|Mon|Dinner|   4|        1.0|\n|     37.12|18.4|  Male|   Yes|Tue|Dinner|   5|        1.0|\n|     38.12|19.4|  Male|    No|Wed|Dinner|   1|        1.0|\n|     39.12| 1.2|Female|   Yes|Sun|Dinner|   5|        0.0|\n|     40.12| 1.3|Female|    No|Mon|Dinner|   5|        0.0|\n|     41.12| 5.4|Female|   Yes|Tue|Dinner|   6|        0.0|\n+----------+----+------+------+---+------+----+-----------+\nonly showing top 20 rows\n\n"
     ]
    }
   ],
   "source": [
    "indexer= StringIndexer(inputCol=\"sex\", outputCol=\"sex_indexed\")\n",
    "df_r = indexer.fit(df).transform(df)\n",
    "df_r.show()"
   ]
  },
  {
   "cell_type": "code",
   "execution_count": 0,
   "metadata": {
    "application/vnd.databricks.v1+cell": {
     "cellMetadata": {
      "byteLimit": 2048000,
      "rowLimit": 10000
     },
     "inputWidgets": {},
     "nuid": "5f84e24e-2fef-48fc-8be8-a8881a7a0a0a",
     "showTitle": false,
     "tableResultSettingsMap": {},
     "title": ""
    }
   },
   "outputs": [
    {
     "output_type": "stream",
     "name": "stdout",
     "output_type": "stream",
     "text": [
      "+----------+----+------+------+---+------+----+-----------+--------------+-----------+------------+\n|Total_bill| tip|   sex|smoker|day|  time|size|sex_indexed|smoker_indexed|day_indexed|time_indexed|\n+----------+----+------+------+---+------+----+-----------+--------------+-----------+------------+\n|     12.21| 1.2|Female|    No|Sun|Dinner|   2|        0.0|           1.0|        0.0|         0.0|\n|     23.12| 1.3|  Male|   Yes|Mon|Dinner|   4|        1.0|           0.0|        2.0|         0.0|\n|     24.12| 5.4|  Male|    No|Tue|Dinner|   3|        1.0|           1.0|        3.0|         0.0|\n|     25.12| 6.4|  Male|   Yes|Wed|Dinner|   2|        1.0|           0.0|        1.0|         0.0|\n|     26.12| 7.4|  Male|    No|Thu|Dinner|   4|        1.0|           1.0|        5.0|         0.0|\n|     27.12| 8.4|  Male|   Yes|Fri|Dinner|   5|        1.0|           0.0|        4.0|         0.0|\n|     28.12| 9.4|  Male|    No|Sat|Dinner|   1|        1.0|           1.0|        6.0|         0.0|\n|     29.12|10.4|  Male|   Yes|Sun|Dinner|   5|        1.0|           0.0|        0.0|         0.0|\n|     30.12|11.4|  Male|    No|Mon|Dinner|   5|        1.0|           1.0|        2.0|         0.0|\n|     31.12|12.4|  Male|   Yes|Tue|Dinner|   6|        1.0|           0.0|        3.0|         0.0|\n|     32.12|13.4|  Male|    No|Wed|Dinner|   2|        1.0|           1.0|        1.0|         0.0|\n|     33.12|14.4|  Male|   Yes|Thu|Dinner|   4|        1.0|           0.0|        5.0|         0.0|\n|     34.12|15.4|  Male|    No|Fri|Dinner|   3|        1.0|           1.0|        4.0|         0.0|\n|     35.12|16.4|  Male|   Yes|Sun|Dinner|   2|        1.0|           0.0|        0.0|         0.0|\n|     36.12|17.4|  Male|    No|Mon|Dinner|   4|        1.0|           1.0|        2.0|         0.0|\n|     37.12|18.4|  Male|   Yes|Tue|Dinner|   5|        1.0|           0.0|        3.0|         0.0|\n|     38.12|19.4|  Male|    No|Wed|Dinner|   1|        1.0|           1.0|        1.0|         0.0|\n|     39.12| 1.2|Female|   Yes|Sun|Dinner|   5|        0.0|           0.0|        0.0|         0.0|\n|     40.12| 1.3|Female|    No|Mon|Dinner|   5|        0.0|           1.0|        2.0|         0.0|\n|     41.12| 5.4|Female|   Yes|Tue|Dinner|   6|        0.0|           0.0|        3.0|         0.0|\n+----------+----+------+------+---+------+----+-----------+--------------+-----------+------------+\nonly showing top 20 rows\n\n"
     ]
    }
   ],
   "source": [
    "inputCols=[\"sex\", \"smoker\", \"day\", \"time\"]\n",
    "outputCols=[\"sex_indexed\", \"smoker_indexed\", \"day_indexed\", \"time_indexed\"]\n",
    "indexer= StringIndexer(inputCols=inputCols, outputCols=outputCols)\n",
    "df_r = indexer.fit(df).transform(df)\n",
    "df_r.show()"
   ]
  },
  {
   "cell_type": "code",
   "execution_count": 0,
   "metadata": {
    "application/vnd.databricks.v1+cell": {
     "cellMetadata": {
      "byteLimit": 2048000,
      "rowLimit": 10000
     },
     "inputWidgets": {},
     "nuid": "a28e9d97-83d9-4e03-8a9a-a7715a4e4c68",
     "showTitle": false,
     "tableResultSettingsMap": {},
     "title": ""
    }
   },
   "outputs": [],
   "source": [
    "from pyspark.ml.feature import VectorAssembler"
   ]
  },
  {
   "cell_type": "code",
   "execution_count": 0,
   "metadata": {
    "application/vnd.databricks.v1+cell": {
     "cellMetadata": {
      "byteLimit": 2048000,
      "rowLimit": 10000
     },
     "inputWidgets": {},
     "nuid": "3c525534-7db8-4914-8c4d-5e16dd415a11",
     "showTitle": false,
     "tableResultSettingsMap": {},
     "title": ""
    }
   },
   "outputs": [
    {
     "output_type": "stream",
     "name": "stdout",
     "output_type": "stream",
     "text": [
      "Out[18]: ['Total_bill',\n 'tip',\n 'sex',\n 'smoker',\n 'day',\n 'time',\n 'size',\n 'sex_indexed',\n 'smoker_indexed',\n 'day_indexed',\n 'time_indexed']"
     ]
    }
   ],
   "source": [
    "df_r.columns"
   ]
  },
  {
   "cell_type": "code",
   "execution_count": 0,
   "metadata": {
    "application/vnd.databricks.v1+cell": {
     "cellMetadata": {
      "byteLimit": 2048000,
      "rowLimit": 10000
     },
     "inputWidgets": {},
     "nuid": "e3b6ecc9-2887-4501-8985-90a49e1e1352",
     "showTitle": false,
     "tableResultSettingsMap": {},
     "title": ""
    }
   },
   "outputs": [],
   "source": [
    "inputCols = ['tip',\n",
    " 'size',\n",
    " 'sex_indexed',\n",
    " 'smoker_indexed',\n",
    " 'day_indexed',\n",
    " 'time_indexed']\n",
    "featureAssembler= VectorAssembler(inputCols=inputCols, outputCol= \"Independent Features\")"
   ]
  },
  {
   "cell_type": "code",
   "execution_count": 0,
   "metadata": {
    "application/vnd.databricks.v1+cell": {
     "cellMetadata": {
      "byteLimit": 2048000,
      "rowLimit": 10000
     },
     "inputWidgets": {},
     "nuid": "40a658ad-a108-4c05-b097-7c6af071b361",
     "showTitle": false,
     "tableResultSettingsMap": {},
     "title": ""
    }
   },
   "outputs": [
    {
     "output_type": "stream",
     "name": "stdout",
     "output_type": "stream",
     "text": [
      "+--------------------+\n|Independent Features|\n+--------------------+\n|[1.2,2.0,0.0,1.0,...|\n|[1.3,4.0,1.0,0.0,...|\n|[5.4,3.0,1.0,1.0,...|\n|[6.4,2.0,1.0,0.0,...|\n|[7.4,4.0,1.0,1.0,...|\n|[8.4,5.0,1.0,0.0,...|\n|[9.4,1.0,1.0,1.0,...|\n|[10.4,5.0,1.0,0.0...|\n|[11.4,5.0,1.0,1.0...|\n|[12.4,6.0,1.0,0.0...|\n|[13.4,2.0,1.0,1.0...|\n|[14.4,4.0,1.0,0.0...|\n|[15.4,3.0,1.0,1.0...|\n|[16.4,2.0,1.0,0.0...|\n|[17.4,4.0,1.0,1.0...|\n|[18.4,5.0,1.0,0.0...|\n|[19.4,1.0,1.0,1.0...|\n| (6,[0,1],[1.2,5.0])|\n|[1.3,5.0,0.0,1.0,...|\n|[5.4,6.0,0.0,0.0,...|\n+--------------------+\nonly showing top 20 rows\n\n"
     ]
    }
   ],
   "source": [
    "output= featureAssembler.transform(df_r)\n",
    "output.select(\"Independent Features\").show()"
   ]
  },
  {
   "cell_type": "code",
   "execution_count": 0,
   "metadata": {
    "application/vnd.databricks.v1+cell": {
     "cellMetadata": {
      "byteLimit": 2048000,
      "rowLimit": 10000
     },
     "inputWidgets": {},
     "nuid": "14a54efa-c2fc-49c9-9279-739fcb62fec3",
     "showTitle": false,
     "tableResultSettingsMap": {},
     "title": ""
    }
   },
   "outputs": [
    {
     "output_type": "stream",
     "name": "stdout",
     "output_type": "stream",
     "text": [
      "+--------------------+----------+\n|Independent Features|total_bill|\n+--------------------+----------+\n|[1.2,2.0,0.0,1.0,...|     12.21|\n|[1.3,4.0,1.0,0.0,...|     23.12|\n|[5.4,3.0,1.0,1.0,...|     24.12|\n|[6.4,2.0,1.0,0.0,...|     25.12|\n|[7.4,4.0,1.0,1.0,...|     26.12|\n|[8.4,5.0,1.0,0.0,...|     27.12|\n|[9.4,1.0,1.0,1.0,...|     28.12|\n|[10.4,5.0,1.0,0.0...|     29.12|\n|[11.4,5.0,1.0,1.0...|     30.12|\n|[12.4,6.0,1.0,0.0...|     31.12|\n|[13.4,2.0,1.0,1.0...|     32.12|\n|[14.4,4.0,1.0,0.0...|     33.12|\n|[15.4,3.0,1.0,1.0...|     34.12|\n|[16.4,2.0,1.0,0.0...|     35.12|\n|[17.4,4.0,1.0,1.0...|     36.12|\n|[18.4,5.0,1.0,0.0...|     37.12|\n|[19.4,1.0,1.0,1.0...|     38.12|\n| (6,[0,1],[1.2,5.0])|     39.12|\n|[1.3,5.0,0.0,1.0,...|     40.12|\n|[5.4,6.0,0.0,0.0,...|     41.12|\n+--------------------+----------+\nonly showing top 20 rows\n\n"
     ]
    }
   ],
   "source": [
    "finalized_data= output.select(\"Independent Features\", \"total_bill\")\n",
    "finalized_data.show()"
   ]
  },
  {
   "cell_type": "code",
   "execution_count": 0,
   "metadata": {
    "application/vnd.databricks.v1+cell": {
     "cellMetadata": {
      "byteLimit": 2048000,
      "rowLimit": 10000
     },
     "inputWidgets": {},
     "nuid": "48e66b07-ab9e-43d8-9d62-633eac6be809",
     "showTitle": false,
     "tableResultSettingsMap": {},
     "title": ""
    }
   },
   "outputs": [],
   "source": [
    "from pyspark.ml.regression import LinearRegression"
   ]
  },
  {
   "cell_type": "code",
   "execution_count": 0,
   "metadata": {
    "application/vnd.databricks.v1+cell": {
     "cellMetadata": {
      "byteLimit": 2048000,
      "rowLimit": 10000
     },
     "inputWidgets": {},
     "nuid": "7308e970-b1ae-4e47-bc2b-eb772f0edd9b",
     "showTitle": false,
     "tableResultSettingsMap": {},
     "title": ""
    }
   },
   "outputs": [],
   "source": [
    "### train data, test data split\n",
    "train_data, test_data= finalized_data.randomSplit([0.80, 0.20])\n",
    "regressor= LinearRegression(featuresCol= \"Independent Features\", labelCol=\"total_bill\")\n",
    "regressor= regressor.fit(train_data)"
   ]
  },
  {
   "cell_type": "code",
   "execution_count": 0,
   "metadata": {
    "application/vnd.databricks.v1+cell": {
     "cellMetadata": {
      "byteLimit": 2048000,
      "rowLimit": 10000
     },
     "inputWidgets": {},
     "nuid": "0c90ecfa-a256-4759-b9a4-0e6ddbefe218",
     "showTitle": false,
     "tableResultSettingsMap": {},
     "title": ""
    }
   },
   "outputs": [
    {
     "output_type": "stream",
     "name": "stdout",
     "output_type": "stream",
     "text": [
      "Out[36]: DenseVector([0.0969, 0.6708, -8.7939, -1.3438, -0.5008, 0.0])"
     ]
    }
   ],
   "source": [
    "regressor.coefficients"
   ]
  },
  {
   "cell_type": "code",
   "execution_count": 0,
   "metadata": {
    "application/vnd.databricks.v1+cell": {
     "cellMetadata": {
      "byteLimit": 2048000,
      "rowLimit": 10000
     },
     "inputWidgets": {},
     "nuid": "0a3ab3aa-1d25-491e-b549-9fd8de4f4282",
     "showTitle": false,
     "tableResultSettingsMap": {},
     "title": ""
    }
   },
   "outputs": [
    {
     "output_type": "stream",
     "name": "stdout",
     "output_type": "stream",
     "text": [
      "Out[37]: 37.925998362367906"
     ]
    }
   ],
   "source": [
    "regressor.intercept"
   ]
  },
  {
   "cell_type": "code",
   "execution_count": 0,
   "metadata": {
    "application/vnd.databricks.v1+cell": {
     "cellMetadata": {
      "byteLimit": 2048000,
      "rowLimit": 10000
     },
     "inputWidgets": {},
     "nuid": "51a88636-93cb-482e-b728-1d0347cfb82b",
     "showTitle": false,
     "tableResultSettingsMap": {},
     "title": ""
    }
   },
   "outputs": [
    {
     "output_type": "stream",
     "name": "stdout",
     "output_type": "stream",
     "text": [
      "+--------------------+----------+------------------+\n|Independent Features|total_bill|        prediction|\n+--------------------+----------+------------------+\n|[1.3,4.0,1.0,0.0,...|     23.12|30.939842226967038|\n|[6.4,6.0,1.0,0.0,...|     57.12|33.777592472158844|\n|[13.4,2.0,1.0,1.0...|     32.12|29.928237090861987|\n|[15.4,3.0,1.0,1.0...|     34.12|29.290520383485536|\n|[17.4,4.0,1.0,1.0...|     36.12| 31.15689132834873|\n|[31.4,5.0,0.0,0.0...|     12.21| 43.82355944278498|\n|[32.4,6.0,0.0,0.0...|     23.12| 44.59134676642389|\n|[34.4,6.0,0.0,0.0...|     25.12|44.785243887080746|\n|[40.4,6.0,1.0,0.0...|     59.12| 37.07384352332533|\n|[41.4,6.0,1.0,0.0...|     12.21| 37.17079208365376|\n+--------------------+----------+------------------+\n\n"
     ]
    }
   ],
   "source": [
    "#final data \n",
    "pred_results= regressor.evaluate(test_data)\n",
    "pred_results.predictions.show()"
   ]
  },
  {
   "cell_type": "code",
   "execution_count": 0,
   "metadata": {
    "application/vnd.databricks.v1+cell": {
     "cellMetadata": {
      "byteLimit": 2048000,
      "rowLimit": 10000
     },
     "inputWidgets": {},
     "nuid": "e428def5-e87c-43ba-ad5a-1bf1b9979cc3",
     "showTitle": false,
     "tableResultSettingsMap": {},
     "title": ""
    }
   },
   "outputs": [
    {
     "output_type": "stream",
     "name": "stdout",
     "output_type": "stream",
     "text": [
      "Out[43]: (-0.5232864022801005, 16.290369960872997, 19.013179413069235)"
     ]
    }
   ],
   "source": [
    "##Performance Metrics\n",
    "pred_results.r2, pred_results.meanAbsoluteError, pred_results.rootMeanSquaredError"
   ]
  },
  {
   "cell_type": "code",
   "execution_count": 0,
   "metadata": {
    "application/vnd.databricks.v1+cell": {
     "cellMetadata": {
      "byteLimit": 2048000,
      "rowLimit": 10000
     },
     "inputWidgets": {},
     "nuid": "41b9f7de-79da-4a26-95bb-09514112a3f1",
     "showTitle": false,
     "tableResultSettingsMap": {},
     "title": ""
    }
   },
   "outputs": [],
   "source": [
    "\n",
    "regressor.save(\"/FileStore/tables/linear_regression_model\")"
   ]
  }
 ],
 "metadata": {
  "application/vnd.databricks.v1+notebook": {
   "computePreferences": null,
   "dashboards": [],
   "environmentMetadata": null,
   "language": "python",
   "notebookMetadata": {
    "mostRecentlyExecutedCommandWithImplicitDF": {
     "commandId": -1,
     "dataframes": [
      "_sqldf"
     ]
    },
    "pythonIndentUnit": 4
   },
   "notebookName": "2024-12-26 - DBFS Example",
   "widgets": {}
  }
 },
 "nbformat": 4,
 "nbformat_minor": 0
}
